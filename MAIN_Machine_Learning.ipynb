{
  "cells": [
    {
      "cell_type": "markdown",
      "metadata": {
        "id": "4e6zRKPhkKaR"
      },
      "source": [
        "CLEANING"
      ]
    },
    {
      "cell_type": "code",
      "execution_count": null,
      "metadata": {
        "colab": {
          "background_save": true
        },
        "id": "dwS_XX8Zk40l"
      },
      "outputs": [],
      "source": [
        "# Install necessary packages\n",
        "!pip install pandas nltk Sastrawi requests\n",
        "\n",
        "# Import necessary libraries\n",
        "import pandas as pd\n",
        "import numpy as np\n",
        "import re\n",
        "from nltk.corpus import stopwords\n",
        "from nltk.tokenize import word_tokenize\n",
        "import nltk\n",
        "import os\n",
        "import requests\n",
        "from Sastrawi.Stemmer.StemmerFactory import StemmerFactory\n",
        "\n",
        "# Download necessary NLTK data\n",
        "nltk.download('punkt')\n",
        "nltk.download('stopwords')\n",
        "\n",
        "# URL of the dataset\n",
        "url = 'https://raw.githubusercontent.com/AxelTheAxcelian/Capstone_Project/main/Dataset/Dataset_Capstone%20-%20Merge.csv'\n",
        "\n",
        "# Check if the URL is accessible\n",
        "response = requests.get(url)\n",
        "if response.status_code != 200:\n",
        "    raise FileNotFoundError(f\"File not found: {url}\")\n",
        "\n",
        "# Load the dataset\n",
        "df = pd.read_csv(url)\n",
        "print(df.columns)  # Debugging: Check the column names\n",
        "\n",
        "# Ensure 'sentences' column exists\n",
        "if 'sentences' not in df.columns:\n",
        "    raise KeyError(\"'sentences' column not found in the dataset\")\n",
        "\n",
        "# Convert the 'sentences' column to string type\n",
        "df['sentences'] = df['sentences'].astype(str)\n",
        "\n",
        "def clean_text(text):\n",
        "    # Remove URLs\n",
        "    text = re.sub(r'http\\S+', '', text)\n",
        "\n",
        "    # Remove numbers\n",
        "    text = re.sub(r'\\d+', '', text)\n",
        "\n",
        "    # Remove special characters specific to Twitter\n",
        "    text = re.sub(r'@[A-Za-z0-9]+', '', text)  # Remove mentions\n",
        "    text = re.sub(r'#[A-Za-z0-9]+', '', text)  # Remove hashtags\n",
        "    text = re.sub(r'RT[\\s]+', '', text)  # Remove retweets\n",
        "\n",
        "    # Remove punctuation\n",
        "    text = re.sub(r'[^\\w\\s]', '', text)\n",
        "\n",
        "    # Remove extra whitespace\n",
        "    text = re.sub(r'\\s+', ' ', text).strip()\n",
        "\n",
        "    # Remove non-ASCII characters\n",
        "    text = ''.join(char for char in text if ord(char) < 128)\n",
        "\n",
        "    # Remove repeated characters (e.g., 'helloooo' to 'hello')\n",
        "    text = re.sub(r'(.)\\1+', r'\\1', text)\n",
        "\n",
        "    # Remove emoticons\n",
        "    emoticons = re.findall(r'(?::|;|=)(?:-)?(?:\\)|\\(|D|P)', text)\n",
        "    text = re.sub(r'(?::|;|=)(?:-)?(?:\\)|\\(|D|P)', '', text)\n",
        "\n",
        "    # Case folding (convert text to lowercase)\n",
        "    text = text.lower()\n",
        "\n",
        "    # Tokenize text\n",
        "    words = word_tokenize(text)\n",
        "\n",
        "    # Remove stopwords\n",
        "    stop_words = set(stopwords.words('indonesian'))  # Use Indonesian stopwords\n",
        "    words = [word for word in words if word not in stop_words]\n",
        "\n",
        "    # Join words back into a string\n",
        "    cleaned_text = ' '.join(words)\n",
        "\n",
        "    return cleaned_text\n",
        "\n",
        "# Apply the clean_text and stemmingIndo functions to the 'sentences' column\n",
        "df['cleaned_text'] = df['sentences'].apply(clean_text)\n",
        "\n",
        "# Display the cleaned dataset\n",
        "print(df['cleaned_text'])\n",
        "\n",
        "# Select relevant columns and save to CSV\n",
        "df_clean = df[['cleaned_text', 'label']]\n",
        "\n",
        "# Save the cleaned DataFrame to a CSV file\n",
        "df_clean.to_csv('df_clean.csv', index=False)\n",
        "\n",
        "# Download the file (only works in Google Colab)\n",
        "from google.colab import files\n",
        "files.download('df_clean.csv')\n"
      ]
    },
    {
      "cell_type": "code",
      "execution_count": null,
      "metadata": {
        "colab": {
          "background_save": true
        },
        "id": "G2Z36tcNmTPU"
      },
      "outputs": [],
      "source": [
        "#sastrawi\n",
        "def stemmingIndo(text):\n",
        "    factory = StemmerFactory()\n",
        "    stemmer = factory.create_stemmer()\n",
        "    return stemmer.stem(text)\n",
        "\n",
        "# Apply the clean_text and stemmingIndo functions to the 'sentences' column\n",
        "df['cleaned_text'] = df['sentences'].apply(stemmingIndo)\n",
        "\n",
        "# Display the cleaned dataset\n",
        "print(df['cleaned_text'])"
      ]
    },
    {
      "cell_type": "markdown",
      "metadata": {
        "id": "cY1EkTZBBfJG"
      },
      "source": [
        "Model"
      ]
    },
    {
      "cell_type": "code",
      "execution_count": null,
      "metadata": {
        "id": "HYAUdG9aeLLU"
      },
      "outputs": [],
      "source": [
        "import numpy as np\n",
        "import pandas as pd\n",
        "from sklearn.preprocessing import LabelEncoder\n",
        "from sklearn.model_selection import train_test_split\n",
        "import tensorflow as tf\n",
        "from tensorflow.keras.preprocessing.text import Tokenizer\n",
        "from tensorflow.keras.preprocessing.sequence import pad_sequences\n",
        "from tensorflow.keras.models import Sequential\n",
        "from tensorflow.keras.layers import Embedding, LSTM, Dense, SpatialDropout1D, Dropout\n",
        "from tensorflow.keras.utils import to_categorical\n",
        "from tensorflow.keras.regularizers import l2\n",
        "from tensorflow.keras.callbacks import EarlyStopping"
      ]
    },
    {
      "cell_type": "code",
      "execution_count": null,
      "metadata": {
        "id": "Ls1Vpx2vs5n2"
      },
      "outputs": [],
      "source": [
        "data = pd.read_csv('/content/df_clean.csv')"
      ]
    },
    {
      "cell_type": "code",
      "execution_count": null,
      "metadata": {
        "colab": {
          "base_uri": "https://localhost:8080/",
          "height": 423
        },
        "id": "oU-w0Ujos77Y",
        "outputId": "19ea4790-29ec-4f86-b08d-4f7487e257c9"
      },
      "outputs": [
        {
          "data": {
            "application/vnd.google.colaboratory.intrinsic+json": {
              "summary": "{\n  \"name\": \"data\",\n  \"rows\": 7243,\n  \"fields\": [\n    {\n      \"column\": \"cleaned_text\",\n      \"properties\": {\n        \"dtype\": \"string\",\n        \"num_unique_values\": 7197,\n        \"samples\": [\n          \"setya novanto tersenyum hakim tipikor kabulkan permintanya tirto id siaran pers blog\",\n          \"makanan pesan gagal mantap pasta alfredo alaskan salmon burger au gratisan minuman lumayan mocacino nya pas mojito mini nya berasa lumayanlah nya nyaman unik tema lebah nya dominan pelayanan bgtu menyajikan piring nya membentur meja dibanting keras beda mbak mengenakan behel\",\n          \"pesan kangkung hotplate sapi nya enak bandung udang kipas nya berminyak enak sayang nya kotor susah parkir puyunghai nya lumayan enak\"\n        ],\n        \"semantic_type\": \"\",\n        \"description\": \"\"\n      }\n    },\n    {\n      \"column\": \"label\",\n      \"properties\": {\n        \"dtype\": \"number\",\n        \"std\": 0,\n        \"min\": 0,\n        \"max\": 3,\n        \"num_unique_values\": 4,\n        \"samples\": [\n          1,\n          3,\n          0\n        ],\n        \"semantic_type\": \"\",\n        \"description\": \"\"\n      }\n    }\n  ]\n}",
              "type": "dataframe",
              "variable_name": "data"
            },
            "text/html": [
              "\n",
              "  <div id=\"df-4620a44c-05f4-4244-a63c-23456ae10a97\" class=\"colab-df-container\">\n",
              "    <div>\n",
              "<style scoped>\n",
              "    .dataframe tbody tr th:only-of-type {\n",
              "        vertical-align: middle;\n",
              "    }\n",
              "\n",
              "    .dataframe tbody tr th {\n",
              "        vertical-align: top;\n",
              "    }\n",
              "\n",
              "    .dataframe thead th {\n",
              "        text-align: right;\n",
              "    }\n",
              "</style>\n",
              "<table border=\"1\" class=\"dataframe\">\n",
              "  <thead>\n",
              "    <tr style=\"text-align: right;\">\n",
              "      <th></th>\n",
              "      <th>cleaned_text</th>\n",
              "      <th>label</th>\n",
              "    </tr>\n",
              "  </thead>\n",
              "  <tbody>\n",
              "    <tr>\n",
              "      <th>0</th>\n",
              "      <td>engak jenuh</td>\n",
              "      <td>0</td>\n",
              "    </tr>\n",
              "    <tr>\n",
              "      <th>1</th>\n",
              "      <td>aslinya cantik ayu loh mbak krn bertemu langsu...</td>\n",
              "      <td>0</td>\n",
              "    </tr>\n",
              "    <tr>\n",
              "      <th>2</th>\n",
              "      <td>astagfirulah mbak tolong ucapanya dijaga ya al...</td>\n",
              "      <td>0</td>\n",
              "    </tr>\n",
              "    <tr>\n",
              "      <th>3</th>\n",
              "      <td>aurel cantik tau liat asli nya org sirik yg me...</td>\n",
              "      <td>0</td>\n",
              "    </tr>\n",
              "    <tr>\n",
              "      <th>4</th>\n",
              "      <td>dapatkan voucher pulsa rp orang beruntung nya ...</td>\n",
              "      <td>0</td>\n",
              "    </tr>\n",
              "    <tr>\n",
              "      <th>...</th>\n",
              "      <td>...</td>\n",
              "      <td>...</td>\n",
              "    </tr>\n",
              "    <tr>\n",
              "      <th>7238</th>\n",
              "      <td>utamakan prediksi bosku nikmati promo bonus me...</td>\n",
              "      <td>3</td>\n",
              "    </tr>\n",
              "    <tr>\n",
              "      <th>7239</th>\n",
              "      <td>thailand tangal kamis mei result shio babi sel...</td>\n",
              "      <td>3</td>\n",
              "    </tr>\n",
              "    <tr>\n",
              "      <th>7240</th>\n",
              "      <td>toto macau mei result sah shio kambing link li...</td>\n",
              "      <td>3</td>\n",
              "    </tr>\n",
              "    <tr>\n",
              "      <th>7241</th>\n",
              "      <td>user id r selamat kemenanganya pencarian gogle...</td>\n",
              "      <td>3</td>\n",
              "    </tr>\n",
              "    <tr>\n",
              "      <th>7242</th>\n",
              "      <td>win rekomendasi rtp pola win oficial kamis mei...</td>\n",
              "      <td>3</td>\n",
              "    </tr>\n",
              "  </tbody>\n",
              "</table>\n",
              "<p>7243 rows × 2 columns</p>\n",
              "</div>\n",
              "    <div class=\"colab-df-buttons\">\n",
              "\n",
              "  <div class=\"colab-df-container\">\n",
              "    <button class=\"colab-df-convert\" onclick=\"convertToInteractive('df-4620a44c-05f4-4244-a63c-23456ae10a97')\"\n",
              "            title=\"Convert this dataframe to an interactive table.\"\n",
              "            style=\"display:none;\">\n",
              "\n",
              "  <svg xmlns=\"http://www.w3.org/2000/svg\" height=\"24px\" viewBox=\"0 -960 960 960\">\n",
              "    <path d=\"M120-120v-720h720v720H120Zm60-500h600v-160H180v160Zm220 220h160v-160H400v160Zm0 220h160v-160H400v160ZM180-400h160v-160H180v160Zm440 0h160v-160H620v160ZM180-180h160v-160H180v160Zm440 0h160v-160H620v160Z\"/>\n",
              "  </svg>\n",
              "    </button>\n",
              "\n",
              "  <style>\n",
              "    .colab-df-container {\n",
              "      display:flex;\n",
              "      gap: 12px;\n",
              "    }\n",
              "\n",
              "    .colab-df-convert {\n",
              "      background-color: #E8F0FE;\n",
              "      border: none;\n",
              "      border-radius: 50%;\n",
              "      cursor: pointer;\n",
              "      display: none;\n",
              "      fill: #1967D2;\n",
              "      height: 32px;\n",
              "      padding: 0 0 0 0;\n",
              "      width: 32px;\n",
              "    }\n",
              "\n",
              "    .colab-df-convert:hover {\n",
              "      background-color: #E2EBFA;\n",
              "      box-shadow: 0px 1px 2px rgba(60, 64, 67, 0.3), 0px 1px 3px 1px rgba(60, 64, 67, 0.15);\n",
              "      fill: #174EA6;\n",
              "    }\n",
              "\n",
              "    .colab-df-buttons div {\n",
              "      margin-bottom: 4px;\n",
              "    }\n",
              "\n",
              "    [theme=dark] .colab-df-convert {\n",
              "      background-color: #3B4455;\n",
              "      fill: #D2E3FC;\n",
              "    }\n",
              "\n",
              "    [theme=dark] .colab-df-convert:hover {\n",
              "      background-color: #434B5C;\n",
              "      box-shadow: 0px 1px 3px 1px rgba(0, 0, 0, 0.15);\n",
              "      filter: drop-shadow(0px 1px 2px rgba(0, 0, 0, 0.3));\n",
              "      fill: #FFFFFF;\n",
              "    }\n",
              "  </style>\n",
              "\n",
              "    <script>\n",
              "      const buttonEl =\n",
              "        document.querySelector('#df-4620a44c-05f4-4244-a63c-23456ae10a97 button.colab-df-convert');\n",
              "      buttonEl.style.display =\n",
              "        google.colab.kernel.accessAllowed ? 'block' : 'none';\n",
              "\n",
              "      async function convertToInteractive(key) {\n",
              "        const element = document.querySelector('#df-4620a44c-05f4-4244-a63c-23456ae10a97');\n",
              "        const dataTable =\n",
              "          await google.colab.kernel.invokeFunction('convertToInteractive',\n",
              "                                                    [key], {});\n",
              "        if (!dataTable) return;\n",
              "\n",
              "        const docLinkHtml = 'Like what you see? Visit the ' +\n",
              "          '<a target=\"_blank\" href=https://colab.research.google.com/notebooks/data_table.ipynb>data table notebook</a>'\n",
              "          + ' to learn more about interactive tables.';\n",
              "        element.innerHTML = '';\n",
              "        dataTable['output_type'] = 'display_data';\n",
              "        await google.colab.output.renderOutput(dataTable, element);\n",
              "        const docLink = document.createElement('div');\n",
              "        docLink.innerHTML = docLinkHtml;\n",
              "        element.appendChild(docLink);\n",
              "      }\n",
              "    </script>\n",
              "  </div>\n",
              "\n",
              "\n",
              "<div id=\"df-1d8207c1-a783-498c-8938-3a77ca24e545\">\n",
              "  <button class=\"colab-df-quickchart\" onclick=\"quickchart('df-1d8207c1-a783-498c-8938-3a77ca24e545')\"\n",
              "            title=\"Suggest charts\"\n",
              "            style=\"display:none;\">\n",
              "\n",
              "<svg xmlns=\"http://www.w3.org/2000/svg\" height=\"24px\"viewBox=\"0 0 24 24\"\n",
              "     width=\"24px\">\n",
              "    <g>\n",
              "        <path d=\"M19 3H5c-1.1 0-2 .9-2 2v14c0 1.1.9 2 2 2h14c1.1 0 2-.9 2-2V5c0-1.1-.9-2-2-2zM9 17H7v-7h2v7zm4 0h-2V7h2v10zm4 0h-2v-4h2v4z\"/>\n",
              "    </g>\n",
              "</svg>\n",
              "  </button>\n",
              "\n",
              "<style>\n",
              "  .colab-df-quickchart {\n",
              "      --bg-color: #E8F0FE;\n",
              "      --fill-color: #1967D2;\n",
              "      --hover-bg-color: #E2EBFA;\n",
              "      --hover-fill-color: #174EA6;\n",
              "      --disabled-fill-color: #AAA;\n",
              "      --disabled-bg-color: #DDD;\n",
              "  }\n",
              "\n",
              "  [theme=dark] .colab-df-quickchart {\n",
              "      --bg-color: #3B4455;\n",
              "      --fill-color: #D2E3FC;\n",
              "      --hover-bg-color: #434B5C;\n",
              "      --hover-fill-color: #FFFFFF;\n",
              "      --disabled-bg-color: #3B4455;\n",
              "      --disabled-fill-color: #666;\n",
              "  }\n",
              "\n",
              "  .colab-df-quickchart {\n",
              "    background-color: var(--bg-color);\n",
              "    border: none;\n",
              "    border-radius: 50%;\n",
              "    cursor: pointer;\n",
              "    display: none;\n",
              "    fill: var(--fill-color);\n",
              "    height: 32px;\n",
              "    padding: 0;\n",
              "    width: 32px;\n",
              "  }\n",
              "\n",
              "  .colab-df-quickchart:hover {\n",
              "    background-color: var(--hover-bg-color);\n",
              "    box-shadow: 0 1px 2px rgba(60, 64, 67, 0.3), 0 1px 3px 1px rgba(60, 64, 67, 0.15);\n",
              "    fill: var(--button-hover-fill-color);\n",
              "  }\n",
              "\n",
              "  .colab-df-quickchart-complete:disabled,\n",
              "  .colab-df-quickchart-complete:disabled:hover {\n",
              "    background-color: var(--disabled-bg-color);\n",
              "    fill: var(--disabled-fill-color);\n",
              "    box-shadow: none;\n",
              "  }\n",
              "\n",
              "  .colab-df-spinner {\n",
              "    border: 2px solid var(--fill-color);\n",
              "    border-color: transparent;\n",
              "    border-bottom-color: var(--fill-color);\n",
              "    animation:\n",
              "      spin 1s steps(1) infinite;\n",
              "  }\n",
              "\n",
              "  @keyframes spin {\n",
              "    0% {\n",
              "      border-color: transparent;\n",
              "      border-bottom-color: var(--fill-color);\n",
              "      border-left-color: var(--fill-color);\n",
              "    }\n",
              "    20% {\n",
              "      border-color: transparent;\n",
              "      border-left-color: var(--fill-color);\n",
              "      border-top-color: var(--fill-color);\n",
              "    }\n",
              "    30% {\n",
              "      border-color: transparent;\n",
              "      border-left-color: var(--fill-color);\n",
              "      border-top-color: var(--fill-color);\n",
              "      border-right-color: var(--fill-color);\n",
              "    }\n",
              "    40% {\n",
              "      border-color: transparent;\n",
              "      border-right-color: var(--fill-color);\n",
              "      border-top-color: var(--fill-color);\n",
              "    }\n",
              "    60% {\n",
              "      border-color: transparent;\n",
              "      border-right-color: var(--fill-color);\n",
              "    }\n",
              "    80% {\n",
              "      border-color: transparent;\n",
              "      border-right-color: var(--fill-color);\n",
              "      border-bottom-color: var(--fill-color);\n",
              "    }\n",
              "    90% {\n",
              "      border-color: transparent;\n",
              "      border-bottom-color: var(--fill-color);\n",
              "    }\n",
              "  }\n",
              "</style>\n",
              "\n",
              "  <script>\n",
              "    async function quickchart(key) {\n",
              "      const quickchartButtonEl =\n",
              "        document.querySelector('#' + key + ' button');\n",
              "      quickchartButtonEl.disabled = true;  // To prevent multiple clicks.\n",
              "      quickchartButtonEl.classList.add('colab-df-spinner');\n",
              "      try {\n",
              "        const charts = await google.colab.kernel.invokeFunction(\n",
              "            'suggestCharts', [key], {});\n",
              "      } catch (error) {\n",
              "        console.error('Error during call to suggestCharts:', error);\n",
              "      }\n",
              "      quickchartButtonEl.classList.remove('colab-df-spinner');\n",
              "      quickchartButtonEl.classList.add('colab-df-quickchart-complete');\n",
              "    }\n",
              "    (() => {\n",
              "      let quickchartButtonEl =\n",
              "        document.querySelector('#df-1d8207c1-a783-498c-8938-3a77ca24e545 button');\n",
              "      quickchartButtonEl.style.display =\n",
              "        google.colab.kernel.accessAllowed ? 'block' : 'none';\n",
              "    })();\n",
              "  </script>\n",
              "</div>\n",
              "    </div>\n",
              "  </div>\n"
            ],
            "text/plain": [
              "                                           cleaned_text  label\n",
              "0                                           engak jenuh      0\n",
              "1     aslinya cantik ayu loh mbak krn bertemu langsu...      0\n",
              "2     astagfirulah mbak tolong ucapanya dijaga ya al...      0\n",
              "3     aurel cantik tau liat asli nya org sirik yg me...      0\n",
              "4     dapatkan voucher pulsa rp orang beruntung nya ...      0\n",
              "...                                                 ...    ...\n",
              "7238  utamakan prediksi bosku nikmati promo bonus me...      3\n",
              "7239  thailand tangal kamis mei result shio babi sel...      3\n",
              "7240  toto macau mei result sah shio kambing link li...      3\n",
              "7241  user id r selamat kemenanganya pencarian gogle...      3\n",
              "7242  win rekomendasi rtp pola win oficial kamis mei...      3\n",
              "\n",
              "[7243 rows x 2 columns]"
            ]
          },
          "execution_count": 3,
          "metadata": {},
          "output_type": "execute_result"
        }
      ],
      "source": [
        "data"
      ]
    },
    {
      "cell_type": "code",
      "execution_count": null,
      "metadata": {
        "id": "BwJTaTYct0yt"
      },
      "outputs": [],
      "source": [
        "# Check untuk missing values\n",
        "data['cleaned_text'] = data['cleaned_text'].astype(str)\n",
        "\n",
        "# drop missing values\n",
        "data['cleaned_text'].fillna('', inplace=True)"
      ]
    },
    {
      "cell_type": "code",
      "execution_count": null,
      "metadata": {
        "colab": {
          "base_uri": "https://localhost:8080/"
        },
        "id": "5yy-sqKJiQWJ",
        "outputId": "67391082-7b86-4c80-bc1d-e1850c54d480"
      },
      "outputs": [
        {
          "name": "stdout",
          "output_type": "stream",
          "text": [
            "[[1. 0. 0. 0.]\n",
            " [1. 0. 0. 0.]\n",
            " [1. 0. 0. 0.]\n",
            " ...\n",
            " [0. 0. 0. 1.]\n",
            " [0. 0. 0. 1.]\n",
            " [0. 0. 0. 1.]]\n"
          ]
        }
      ],
      "source": [
        "# Encode labels\n",
        "label_encoder = LabelEncoder()\n",
        "data['label'] = label_encoder.fit_transform(data['label'])\n",
        "\n",
        "# Tokenize the text\n",
        "tokenizer = Tokenizer(num_words=5000, split=' ')\n",
        "tokenizer.fit_on_texts(data['cleaned_text'].values)\n",
        "X = tokenizer.texts_to_sequences(data['cleaned_text'].values)\n",
        "X = pad_sequences(X)\n",
        "\n",
        "# Convert labels to categorical\n",
        "num_classes = len(np.unique(data['label']))\n",
        "Y = to_categorical(data['label'], num_classes=num_classes)\n",
        "\n",
        "# Split the data into train and test sets\n",
        "X_train, X_test, Y_train, Y_test = train_test_split(X, Y, test_size=0.2, random_state=42)\n",
        "\n",
        "print(Y)\n"
      ]
    },
    {
      "cell_type": "code",
      "execution_count": null,
      "metadata": {
        "colab": {
          "base_uri": "https://localhost:8080/"
        },
        "id": "5MOgWLxruW7U",
        "outputId": "f5f84ace-5d16-4258-d4d5-6df7e0ce5554"
      },
      "outputs": [
        {
          "name": "stderr",
          "output_type": "stream",
          "text": [
            "WARNING:tensorflow:Layer lstm_1 will not use cuDNN kernels since it doesn't meet the criteria. It will use a generic GPU kernel as fallback when running on GPU.\n"
          ]
        }
      ],
      "source": [
        "model = Sequential()\n",
        "model.add(Embedding(input_dim=5000, output_dim=128, input_length=X.shape[1]))  # Adjust embedding dimensions if needed\n",
        "model.add(SpatialDropout1D(0.2))\n",
        "model.add(LSTM(60, return_sequences=True, recurrent_dropout=0.2))  # Consider recurrent dropout for LSTMs\n",
        "model.add(Dropout(0.3))  # Experiment with different dropout rates\n",
        "model.add(LSTM(32))  # Reduce LSTM units if complexity is high\n",
        "model.add(Dense(num_classes, activation='softmax', kernel_regularizer=l2(0.01)))  # Adjust weight decay"
      ]
    },
    {
      "cell_type": "code",
      "execution_count": null,
      "metadata": {
        "id": "sDVeS4mQ-0En"
      },
      "outputs": [],
      "source": [
        "# Early stopping\n",
        "early_stopping = EarlyStopping(monitor='val_loss', patience=2, restore_best_weights=True)"
      ]
    },
    {
      "cell_type": "code",
      "execution_count": null,
      "metadata": {
        "colab": {
          "background_save": true,
          "base_uri": "https://localhost:8080/"
        },
        "id": "y_gKmPQq-3sf",
        "outputId": "3c755ee2-a759-48a5-fea0-9189a1aef0e0"
      },
      "outputs": [
        {
          "name": "stdout",
          "output_type": "stream",
          "text": [
            "Model: \"sequential_1\"\n",
            "_________________________________________________________________\n",
            " Layer (type)                Output Shape              Param #   \n",
            "=================================================================\n",
            " embedding_1 (Embedding)     (None, 85, 128)           640000    \n",
            "                                                                 \n",
            " spatial_dropout1d_1 (Spati  (None, 85, 128)           0         \n",
            " alDropout1D)                                                    \n",
            "                                                                 \n",
            " lstm_1 (LSTM)               (None, 85, 60)            45360     \n",
            "                                                                 \n",
            " dropout_1 (Dropout)         (None, 85, 60)            0         \n",
            "                                                                 \n",
            " lstm_2 (LSTM)               (None, 32)                11904     \n",
            "                                                                 \n",
            " dense_1 (Dense)             (None, 4)                 132       \n",
            "                                                                 \n",
            "=================================================================\n",
            "Total params: 697396 (2.66 MB)\n",
            "Trainable params: 697396 (2.66 MB)\n",
            "Non-trainable params: 0 (0.00 Byte)\n",
            "_________________________________________________________________\n",
            "Epoch 1/30\n",
            "182/182 - 61s - loss: 0.1190 - accuracy: 0.9760 - val_loss: 0.7672 - val_accuracy: 0.8109 - 61s/epoch - 337ms/step\n",
            "Epoch 2/30\n",
            "182/182 - 48s - loss: 0.1036 - accuracy: 0.9802 - val_loss: 0.7567 - val_accuracy: 0.8109 - 48s/epoch - 264ms/step\n",
            "Epoch 3/30\n",
            "182/182 - 49s - loss: 0.0892 - accuracy: 0.9845 - val_loss: 0.7812 - val_accuracy: 0.7999 - 49s/epoch - 270ms/step\n",
            "Epoch 4/30\n",
            "182/182 - 49s - loss: 0.0862 - accuracy: 0.9848 - val_loss: 0.8295 - val_accuracy: 0.7957 - 49s/epoch - 271ms/step\n",
            "Epoch 5/30\n",
            "182/182 - 46s - loss: 0.0730 - accuracy: 0.9893 - val_loss: 0.9232 - val_accuracy: 0.7957 - 46s/epoch - 255ms/step\n",
            "Epoch 6/30\n",
            "182/182 - 48s - loss: 0.0892 - accuracy: 0.9843 - val_loss: 0.8679 - val_accuracy: 0.7943 - 48s/epoch - 266ms/step\n",
            "Epoch 7/30\n",
            "182/182 - 45s - loss: 0.0657 - accuracy: 0.9909 - val_loss: 0.8956 - val_accuracy: 0.7937 - 45s/epoch - 249ms/step\n"
          ]
        }
      ],
      "source": [
        "# Compile the model\n",
        "model.compile(optimizer='adam', loss='categorical_crossentropy', metrics=['accuracy'])\n",
        "\n",
        "# Print model summary\n",
        "model.summary()\n",
        "\n",
        "# Train the model\n",
        "batch_size = 32\n",
        "epochs = 30\n",
        "\n",
        "history = model.fit(X_train, Y_train, epochs=epochs, batch_size=batch_size, validation_data=(X_test, Y_test), verbose=2, callbacks=[early_stopping])"
      ]
    },
    {
      "cell_type": "code",
      "execution_count": null,
      "metadata": {
        "colab": {
          "base_uri": "https://localhost:8080/"
        },
        "id": "m0L_PNvXFfmH",
        "outputId": "2ce8038c-35b3-40e2-b91c-73333d24b459"
      },
      "outputs": [
        {
          "name": "stdout",
          "output_type": "stream",
          "text": [
            "227/227 [==============================] - 2s 8ms/step - loss: 0.3567 - accuracy: 0.8998\n"
          ]
        },
        {
          "data": {
            "text/plain": [
              "[0.35673853754997253, 0.8997653126716614]"
            ]
          },
          "execution_count": 23,
          "metadata": {},
          "output_type": "execute_result"
        }
      ],
      "source": [
        "model.evaluate(X, Y)"
      ]
    },
    {
      "cell_type": "code",
      "execution_count": null,
      "metadata": {
        "colab": {
          "base_uri": "https://localhost:8080/"
        },
        "id": "1fvU9XtJn73W",
        "outputId": "e6caba16-43f2-4575-fbdc-0022efba0e36"
      },
      "outputs": [
        {
          "name": "stdout",
          "output_type": "stream",
          "text": [
            "1/1 [==============================] - 0s 35ms/step\n",
            "Predicted label: 1\n"
          ]
        }
      ],
      "source": [
        "def predict_sentiment(tweet):\n",
        "    tweet_seq = tokenizer.texts_to_sequences([tweet])\n",
        "    tweet_pad = pad_sequences(tweet_seq, maxlen=X.shape[1])\n",
        "    prediction = model.predict(tweet_pad)\n",
        "    predicted_label = np.argmax(prediction, axis=1)\n",
        "    original_label = label_encoder.inverse_transform(predicted_label)\n",
        "\n",
        "    return original_label[0]\n",
        "\n",
        "test_tweet = \"aku punya anjing\"\n",
        "print(\"Predicted label:\", predict_sentiment(test_tweet))"
      ]
    },
    {
      "cell_type": "code",
      "execution_count": null,
      "metadata": {
        "colab": {
          "base_uri": "https://localhost:8080/",
          "height": 607
        },
        "id": "KtLk7PhK4cm_",
        "outputId": "56e70026-5811-4dbf-aa13-efb1f0dd94e7"
      },
      "outputs": [
        {
          "data": {
            "image/png": "[encoded data removed]",
            "text/plain": [
              "<Figure size 1200x600 with 2 Axes>"
            ]
          },
          "metadata": {},
          "output_type": "display_data"
        }
      ],
      "source": [
        "# Plot training & validation loss values\n",
        "plt.figure(figsize=(12, 6))\n",
        "plt.subplot(1, 2, 1)\n",
        "plt.plot(history.history['loss'], label='Training Loss')\n",
        "plt.plot(history.history['val_loss'], label='Validation Loss')\n",
        "plt.title('Model Loss')\n",
        "plt.xlabel('Epoch')\n",
        "plt.ylabel('Loss')\n",
        "plt.legend(loc='upper right')\n",
        "\n",
        "# Plot training & validation accuracy values\n",
        "plt.subplot(1, 2, 2)\n",
        "plt.plot(history.history['accuracy'], label='Training Accuracy')\n",
        "plt.plot(history.history['val_accuracy'], label='Validation Accuracy')\n",
        "plt.title('Model Accuracy')\n",
        "plt.xlabel('Epoch')\n",
        "plt.ylabel('Accuracy')\n",
        "plt.legend(loc='upper left')\n",
        "\n",
        "plt.tight_layout()\n",
        "plt.show()"
      ]
    },
    {
      "cell_type": "markdown",
      "metadata": {
        "id": "CjSPZ0JLL0ip"
      },
      "source": [
        "Nyobain Save Model ke tflite"
      ]
    },
    {
      "cell_type": "code",
      "execution_count": null,
      "metadata": {
        "colab": {
          "background_save": true
        },
        "id": "niF06OxULy9i"
      },
      "outputs": [],
      "source": [
        "import numpy as np\n",
        "import pandas as pd\n",
        "from sklearn.preprocessing import LabelEncoder\n",
        "from sklearn.model_selection import train_test_split\n",
        "from tensorflow.keras.preprocessing.text import Tokenizer\n",
        "from tensorflow.keras.preprocessing.sequence import pad_sequences\n",
        "from tensorflow.keras.models import Sequential\n",
        "from tensorflow.keras.layers import Embedding, LSTM, Dense, SpatialDropout1D, Dropout\n",
        "from tensorflow.keras.utils import to_categorical\n",
        "from tensorflow.keras.regularizers import l2\n",
        "from tensorflow.keras.callbacks import EarlyStopping\n",
        "import tensorflow as tf\n",
        "import matplotlib.pyplot as plt\n",
        "\n",
        "data = pd.read_csv('https://raw.githubusercontent.com/AxelTheAxcelian/Capstone_Project/main/Hate%20speech%20data.csv/df_clean_stop.csv')\n",
        "\n",
        "data['cleaned_text'] = data['cleaned_text'].astype(str)\n",
        "data['cleaned_text'].fillna('', inplace=True)\n",
        "\n",
        "label_encoder = LabelEncoder()\n",
        "data['label'] = label_encoder.fit_transform(data['label'])\n",
        "\n",
        "tokenizer = Tokenizer(num_words=5000, split=' ')\n",
        "tokenizer.fit_on_texts(data['cleaned_text'].values)\n",
        "X = tokenizer.texts_to_sequences(data['cleaned_text'].values)\n",
        "X = pad_sequences(X)\n",
        "\n",
        "Y = to_categorical(data['label'])\n",
        "\n",
        "X_train, X_test, Y_train, Y_test = train_test_split(X, Y, test_size=0.2, random_state=42)\n",
        "\n",
        "model = Sequential()\n",
        "model.add(Embedding(input_dim=5000, output_dim=128, input_length=X.shape[1]))\n",
        "model.add(SpatialDropout1D(0.2))\n",
        "model.add(LSTM(60, dropout=0.2, recurrent_dropout=0.2))\n",
        "model.add(Dropout(0.4))\n",
        "model.add(Dense(5, activation='softmax', kernel_regularizer=l2(0.01)))\n",
        "\n",
        "early_stopping = EarlyStopping(monitor='val_loss', patience=2, restore_best_weights=True)\n",
        "\n",
        "model.compile(loss='categorical_crossentropy', optimizer='adam', metrics=['accuracy'])\n",
        "\n",
        "batch_size = 32\n",
        "epochs = 10\n",
        "history = model.fit(X_train, Y_train, epochs=epochs, batch_size=batch_size, validation_data=(X_test, Y_test), verbose=2, callbacks=[early_stopping])"
      ]
    },
    {
      "cell_type": "code",
      "execution_count": null,
      "metadata": {
        "colab": {
          "background_save": true
        },
        "id": "dU-OoaE9OREk"
      },
      "outputs": [],
      "source": [
        "# Plot training & validation loss values\n",
        "plt.figure(figsize=(12, 6))\n",
        "plt.subplot(1, 2, 1)\n",
        "plt.plot(history.history['loss'], label='Training Loss')\n",
        "plt.plot(history.history['val_loss'], label='Validation Loss')\n",
        "plt.title('Model Loss')\n",
        "plt.xlabel('Epoch')\n",
        "plt.ylabel('Loss')\n",
        "plt.legend(loc='upper right')\n",
        "\n",
        "# Plot training & validation accuracy values\n",
        "plt.subplot(1, 2, 2)\n",
        "plt.plot(history.history['accuracy'], label='Training Accuracy')\n",
        "plt.plot(history.history['val_accuracy'], label='Validation Accuracy')\n",
        "plt.title('Model Accuracy')\n",
        "plt.xlabel('Epoch')\n",
        "plt.ylabel('Accuracy')\n",
        "plt.legend(loc='upper left')\n",
        "\n",
        "plt.tight_layout()\n",
        "plt.show()"
      ]
    },
    {
      "cell_type": "code",
      "execution_count": null,
      "metadata": {
        "colab": {
          "background_save": true
        },
        "id": "30oYp42tOCsX"
      },
      "outputs": [],
      "source": [
        "# Simpan model dalam format HDF5\n",
        "model.save('hate_speech_model.h5')\n",
        "\n",
        "# Muat kembali model HDF5\n",
        "loaded_model = tf.keras.models.load_model('hate_speech_model.h5')\n",
        "\n",
        "# Konversi model HDF5 ke format TensorFlow Lite\n",
        "converter = tf.lite.TFLiteConverter.from_keras_model(loaded_model)\n",
        "converter.target_spec.supported_ops = [tf.lite.OpsSet.TFLITE_BUILTINS, tf.lite.OpsSet.SELECT_TF_OPS]\n",
        "converter._experimental_lower_tensor_list_ops = False\n",
        "tflite_model = converter.convert()\n",
        "\n",
        "# Simpan model TensorFlow Lite ke file\n",
        "with open('hate_speech_model.tflite', 'wb') as f:\n",
        "    f.write(tflite_model)\n",
        "\n",
        "# Muat model TensorFlow Lite\n",
        "interpreter = tf.lite.Interpreter(model_path='hate_speech_model.tflite')\n",
        "interpreter.allocate_tensors()\n",
        "\n",
        "# Dapatkan detail input dan output\n",
        "input_details = interpreter.get_input_details()\n",
        "output_details = interpreter.get_output_details()\n"
      ]
    },
    {
      "cell_type": "code",
      "execution_count": null,
      "metadata": {
        "colab": {
          "background_save": true
        },
        "id": "rZpgSwPPOLPI"
      },
      "outputs": [],
      "source": [
        "def predict_sentiment_tflite(tweet):\n",
        "    tweet_seq = tokenizer.texts_to_sequences([tweet])\n",
        "    tweet_pad = pad_sequences(tweet_seq, maxlen=X.shape[1])\n",
        "\n",
        "    input_data = np.array(tweet_pad, dtype=np.float32)\n",
        "\n",
        "    interpreter.set_tensor(input_details[0]['index'], input_data)\n",
        "    interpreter.invoke()\n",
        "    prediction = interpreter.get_tensor(output_details[0]['index'])\n",
        "\n",
        "    predicted_label = np.argmax(prediction, axis=1)\n",
        "    original_label = label_encoder.inverse_transform(predicted_label)\n",
        "\n",
        "    return original_label[0]\n",
        "\n",
        "test_tweet = \"bodoh\"\n",
        "print(\"Predicted label (TFLite):\", predict_sentiment_tflite(test_tweet))"
      ]
    }
  ],
  "metadata": {
    "accelerator": "GPU",
    "colab": {
      "gpuType": "T4",
      "provenance": []
    },
    "kernelspec": {
      "display_name": "Python 3",
      "name": "python3"
    },
    "language_info": {
      "name": "python"
    }
  },
  "nbformat": 4,
  "nbformat_minor": 0
}